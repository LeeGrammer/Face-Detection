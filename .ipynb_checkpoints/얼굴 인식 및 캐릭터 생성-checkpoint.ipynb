{
 "cells": [
  {
   "cell_type": "markdown",
   "id": "77c87597",
   "metadata": {},
   "source": [
    "# 프로젝트 : 얼굴 인식 및 캐릭터 생성 "
   ]
  },
  {
   "cell_type": "markdown",
   "id": "bad86344",
   "metadata": {},
   "source": [
    "## Face Detection vs Face Recognition "
   ]
  },
  {
   "cell_type": "code",
   "execution_count": 10,
   "id": "0a3f5570",
   "metadata": {},
   "outputs": [
    {
     "name": "stderr",
     "output_type": "stream",
     "text": [
      "I0000 00:00:1747891760.980199 1104489 gl_context.cc:369] GL version: 2.1 (2.1 Metal - 89.4), renderer: Apple M4 Pro\n",
      "W0000 00:00:1747891760.982698 1121821 inference_feedback_manager.cc:114] Feedback manager requires a model with a single signature inference. Disabling support for feedback tensors.\n"
     ]
    },
    {
     "data": {
      "text/plain": [
       "-1"
      ]
     },
     "execution_count": 10,
     "metadata": {},
     "output_type": "execute_result"
    }
   ],
   "source": [
    "import cv2\n",
    "import mediapipe as mp\n",
    "\n",
    "# 얼굴을 찾고, 찾은 얼굴에 표시를 해주기 위한 변수 정의\n",
    "mp_face_detection = mp.solutions.face_detection # 얼굴 검출을 위한 face_detection 모듈을 사용\n",
    "mp_drawing = mp.solutions.drawing_utils # 얼굴의 특징을 그리기 위한 drawing_utils 모듈을 사용\n",
    "\n",
    "\n",
    "# 웹캠, 영상 파일의 경우 이것을 사용하세요.:\n",
    "cap = cv2.VideoCapture(\"face_video.mp4\") # 동영상 파일 열기\n",
    "\n",
    "# model_selection : 0 또는 1 선택 가능  ( 0: 근거리(1m 내외) , 1 : (5m 내외))\n",
    "# min_detection_confidence : Threshold 개념과 동일 (0.7 설정 -> 70 퍼센트 이상의 신뢰도일 경우 표시)\n",
    "with mp_face_detection.FaceDetection(model_selection=0, min_detection_confidence=0.7) as face_detection:\n",
    "    while cap.isOpened(): # 동영상이 잘 열렸는가 확인\n",
    "        success, image = cap.read()\n",
    "        if not success:\n",
    "            break\n",
    "        # 보기 편하기 위해 이미지를 좌우를 반전하고, BGR 이미지를 RGB로 변환합니다.\n",
    "        image = cv2.cvtColor(cv2.flip(image, 1), cv2.COLOR_BGR2RGB)\n",
    "        # 성능을 향상시키려면 이미지를 작성 여부를 False으로 설정하세요.\n",
    "        image.flags.writeable = False\n",
    "        results = face_detection.process(image)\n",
    "\n",
    "        # 영상에 얼굴 감지 주석 그리기 기본값 : True.\n",
    "        image.flags.writeable = True\n",
    "        image = cv2.cvtColor(image, cv2.COLOR_RGB2BGR)\n",
    "        \n",
    "        if results.detections: # 검출된 얼굴이 있으면 ~ \n",
    "            # 6개의 특징 추출 : R 눈, L 눈, 코 끝부분, 입 중심, L 귀, R 귀 (귀구슬점, 이주)\n",
    "            for detection in results.detections:\n",
    "                mp_drawing.draw_detection(image, detection) # drawing 작업 해줌\n",
    "                \n",
    "                #print(detection)\n",
    "                \n",
    "                # 특정 위치 가져오기\n",
    "                keypoints = detection.location_data.relative_keypoints\n",
    "                right_eye = keypoints[0] # R 눈\n",
    "                left_eye = keypoints[1]  # L 눈\n",
    "                nose_tip = keypoints[2]  # 코 \n",
    "                \n",
    "                h, w, _ = image.shape # height, width, channel : 이미지로부터 세로, 가로 크기 가져옴\n",
    "                right_eye = (int(right_eye.x * w), int(right_eye.y * h))  #이미지 내에서 실제 좌표 (x,y)\n",
    "                left_eye = (int(left_eye.x * w), int(left_eye.y * h))\n",
    "                nose_tip = (int(nose_tip.x * w), int(nose_tip.y * h))\n",
    "                \n",
    "                # 양 눈에 동그라미 그리기\n",
    "                cv2.circle(image, right_eye, 50, (255, 0, 0), 10, cv2.LINE_AA) # 파란색으로 그리기\n",
    "                cv2.circle(image, left_eye, 50, (0, 0, 255), 10, cv2.LINE_AA) # 빨간색으로 그리기\n",
    "                \n",
    "                # 코에 동그라미 그리기 \n",
    "                cv2.circle(image, nose_tip, 15, (0, 255, 255), 10, cv2.LINE_AA)\n",
    "                \n",
    "                \n",
    "                \n",
    "                \n",
    "        cv2.imshow('MediaPipe Face Detection', cv2.resize(image, None, fx=0.5, fy=0.5))\n",
    "        if cv2.waitKey(1) == ord('q'):\n",
    "            break\n",
    "            \n",
    "cap.release()\n",
    "cv2.destroyAllWindows()\n",
    "cv2.waitKey(1)"
   ]
  }
 ],
 "metadata": {
  "kernelspec": {
   "display_name": "Python 3 (ipykernel)",
   "language": "python",
   "name": "python3"
  },
  "language_info": {
   "codemirror_mode": {
    "name": "ipython",
    "version": 3
   },
   "file_extension": ".py",
   "mimetype": "text/x-python",
   "name": "python",
   "nbconvert_exporter": "python",
   "pygments_lexer": "ipython3",
   "version": "3.10.16"
  }
 },
 "nbformat": 4,
 "nbformat_minor": 5
}
