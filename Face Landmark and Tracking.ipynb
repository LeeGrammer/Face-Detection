{
 "cells": [
  {
   "cell_type": "code",
   "execution_count": 1,
   "id": "2605d5bd",
   "metadata": {},
   "outputs": [],
   "source": [
    "import cv2, dlib, sys\n",
    "import numpy as np"
   ]
  },
  {
   "cell_type": "code",
   "execution_count": 16,
   "id": "d7d9d075",
   "metadata": {},
   "outputs": [
    {
     "data": {
      "text/plain": [
       "-1"
      ]
     },
     "execution_count": 16,
     "metadata": {},
     "output_type": "execute_result"
    }
   ],
   "source": [
    "cap = cv2.VideoCapture(0)\n",
    "\n",
    "detector = dlib.get_frontal_face_detector()\n",
    "predictor = dlib.shape_predictor('shape_predictor_68_face_landmarks.dat')\n",
    "\n",
    "\n",
    "while True:\n",
    "    ret, img = cap.read()\n",
    "    if not ret:\n",
    "        break\n",
    "    ori = img.copy()\n",
    "    faces = detector(img)\n",
    "    face = faces[0]\n",
    "    \n",
    "    dlib_shape = predictor(img, face)\n",
    "    shape_2d = np.array([[p.x, p.y] for p in dlib_shape.parts()])\n",
    "\n",
    "    # compute center and boundaries of face\n",
    "    top_left = np.min(shape_2d, axis=0)\n",
    "    bottom_right = np.max(shape_2d, axis=0)\n",
    "    \n",
    "    center_x, center_y = np.mean(shape_2d, axis=0).astype(np.int32)\n",
    "    \n",
    "    #visualize\n",
    "    img = cv2.rectangle(img, pt1=(face.left(), face.top()), pt2=(face.right(), face.bottom()), color=(255,255,255), thickness=2, lineType=cv2.LINE_AA)\n",
    "    \n",
    "    for s in shape_2d:\n",
    "        cv2.circle(img, center=tuple(s), radius=1, color=(255, 255, 255), thickness=2, lineType=cv2.LINE_AA)\n",
    "        \n",
    "    cv2.circle(img, center=tuple(top_left), radius=1, color=(255,0,0), thickness=10, lineType=cv2.LINE_AA)\n",
    "    cv2.circle(img, center=tuple(bottom_right), radius=1, color=(255, 0, 0), thickness=10, lineType=cv2.LINE_AA)\n",
    "    cv2.circle(img, center=tuple((center_x, center_y)), radius=1, color=(0,255,0), thickness=10, lineType=cv2.LINE_AA)\n",
    "    \n",
    "    cv2.imshow('img', img)\n",
    "    if cv2.waitKey(1) == ord('q'):\n",
    "        break\n",
    "    \n",
    "cap.release()\n",
    "cv2.destroyAllWindows()\n",
    "cv2.waitKey(1) # 이벤트 루프 갱신 -> 창이 완전히 닫힘 보장"
   ]
  }
 ],
 "metadata": {
  "kernelspec": {
   "display_name": "Python 3 (ipykernel)",
   "language": "python",
   "name": "python3"
  },
  "language_info": {
   "codemirror_mode": {
    "name": "ipython",
    "version": 3
   },
   "file_extension": ".py",
   "mimetype": "text/x-python",
   "name": "python",
   "nbconvert_exporter": "python",
   "pygments_lexer": "ipython3",
   "version": "3.10.16"
  }
 },
 "nbformat": 4,
 "nbformat_minor": 5
}
